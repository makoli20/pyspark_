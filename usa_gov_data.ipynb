{
  "cells": [
    {
      "cell_type": "code",
      "execution_count": 3,
      "metadata": {
        "id": "uUjg3KNnWWqr",
        "colab": {
          "base_uri": "https://localhost:8080/"
        },
        "outputId": "a65a4876-0024-47ed-8c2b-ba5935e1f076"
      },
      "outputs": [
        {
          "output_type": "stream",
          "name": "stdout",
          "text": [
            "\u001b[2K     \u001b[90m━━━━━━━━━━━━━━━━━━━━━━━━━━━━━━━━━━━━━━━\u001b[0m \u001b[32m316.9/316.9 MB\u001b[0m \u001b[31m4.5 MB/s\u001b[0m eta \u001b[36m0:00:00\u001b[0m\n",
            "\u001b[?25h  Preparing metadata (setup.py) ... \u001b[?25l\u001b[?25hdone\n",
            "  Building wheel for pyspark (setup.py) ... \u001b[?25l\u001b[?25hdone\n"
          ]
        }
      ],
      "source": [
        "! pip install pyspark -q"
      ]
    },
    {
      "cell_type": "markdown",
      "source": [
        "# Analyzing temperature and API datasets across US states using PySpark\n"
      ],
      "metadata": {
        "id": "75FG9dk5sUjJ"
      }
    },
    {
      "cell_type": "code",
      "execution_count": 5,
      "metadata": {
        "id": "M4RbOhX6Wbaz"
      },
      "outputs": [],
      "source": [
        "from pyspark.sql import SparkSession\n",
        "from pyspark import SparkContext\n",
        "from pyspark.sql import functions as fn\n",
        "\n",
        "sc = SparkContext.getOrCreate()\n",
        "\n",
        "spark = SparkSession\\\n",
        "    .builder\\\n",
        "    .appName('02')\\\n",
        "    .getOrCreate()"
      ]
    },
    {
      "cell_type": "code",
      "execution_count": null,
      "metadata": {
        "id": "bOzs4146LDwb"
      },
      "outputs": [],
      "source": [
        "# download the temperature and aqi data sets\n",
        "%%bash\n",
        "\n",
        "if [[ ! -f us-daily-temperatures-2021.csv.csv ]]; then\n",
        " wget https://syr-bda.s3.us-east-2.amazonaws.com/us-daily-temperatures-2021.csv -q\n",
        "fi\n",
        "\n",
        "if [[ ! -f us-daily-aqi-2021.csv.csv ]]; then\n",
        " wget https://syr-bda.s3.us-east-2.amazonaws.com/us-daily-aqi-2021.csv -q\n",
        "fi"
      ]
    },
    {
      "cell_type": "code",
      "execution_count": null,
      "metadata": {
        "id": "HgZVlQZQCee-",
        "colab": {
          "base_uri": "https://localhost:8080/"
        },
        "outputId": "94b1e922-3fec-40ff-953b-bc44f8de565d"
      },
      "outputs": [
        {
          "output_type": "stream",
          "name": "stdout",
          "text": [
            "root\n",
            " |-- date: string (nullable = true)\n",
            " |-- state: string (nullable = true)\n",
            " |-- county: string (nullable = true)\n",
            " |-- city: string (nullable = true)\n",
            " |-- sites_reporting: integer (nullable = true)\n",
            " |-- mean_temperature_f: integer (nullable = true)\n",
            " |-- max_temp_f: integer (nullable = true)\n",
            " |-- max_temp_hour: integer (nullable = true)\n",
            "\n",
            "root\n",
            " |-- date: string (nullable = true)\n",
            " |-- state: string (nullable = true)\n",
            " |-- county: string (nullable = true)\n",
            " |-- aqi: string (nullable = true)\n",
            " |-- category: string (nullable = true)\n",
            "\n"
          ]
        },
        {
          "output_type": "execute_result",
          "data": {
            "text/plain": [
              "130922"
            ]
          },
          "metadata": {},
          "execution_count": 13
        }
      ],
      "source": [
        "temperature = spark.read.csv('us-daily-temperatures-2021.csv', header =  True)\n",
        "aqi = spark.read.csv('us-daily-aqi-2021.csv', header = True)\n",
        "temperature = temperature.withColumn(\"mean_temperature_f\", temperature[\"mean_temperature_f\"].cast(\"int\"))\n",
        "temperature = temperature.withColumn(\"max_temp_f\", temperature[\"max_temp_f\"].cast(\"int\"))\n",
        "temperature = temperature.withColumn(\"sites_reporting\", temperature[\"sites_reporting\"].cast(\"int\"))\n",
        "temperature = temperature.withColumn(\"max_temp_hour\", temperature[\"max_temp_hour\"].cast(\"int\"))\n",
        "temperature.printSchema()\n",
        "temperature.count()\n",
        "aqi.printSchema()\n",
        "aqi.count()\n",
        "\n"
      ]
    },
    {
      "cell_type": "markdown",
      "metadata": {
        "id": "OEYrM7vlG16v"
      },
      "source": [
        "Finding the **mean** temperature, the **max** temperature, and the **total** sites reporting, for each unique `date`, `state`, and `county` in the `temperature` data frame."
      ]
    },
    {
      "cell_type": "code",
      "source": [
        "from pyspark.sql.types import *\n",
        "from pyspark.sql.functions import *\n",
        "\n",
        "\n",
        "temperature_county = temperature.groupBy(\"date\", \"state\", \"county\").agg(\n",
        "    round(mean(\"mean_temperature_f\")).alias(\"mean_temperature_f\"),\n",
        "    max(\"max_temp_f\").alias(\"max_temp_f\"),\n",
        "    sum(\"sites_reporting\").alias(\"sites_reporting\"))\n",
        "temperature_county.show()\n",
        "\n",
        "\n"
      ],
      "metadata": {
        "id": "kspCFy52-TU1",
        "colab": {
          "base_uri": "https://localhost:8080/"
        },
        "outputId": "79b8e036-1209-4fbf-ce9d-3b8c4e0e886f"
      },
      "execution_count": null,
      "outputs": [
        {
          "output_type": "stream",
          "name": "stdout",
          "text": [
            "+----------+------------+----------+------------------+----------+---------------+\n",
            "|      date|       state|    county|mean_temperature_f|max_temp_f|sites_reporting|\n",
            "+----------+------------+----------+------------------+----------+---------------+\n",
            "|2021-01-01|       Idaho|  Shoshone|              33.0|        37|              1|\n",
            "|2021-01-01|       Texas|  Brazoria|              44.0|        53|              2|\n",
            "|2021-01-02|North Dakota|     Burke|              32.0|        38|              1|\n",
            "|2021-01-03|  California| Riverside|              52.0|        72|             14|\n",
            "|2021-01-03|South Dakota|    Custer|              37.0|        43|              1|\n",
            "|2021-01-04|       Idaho|Twin Falls|              36.0|        44|              1|\n",
            "|2021-01-05|    Illinois| Champaign|              29.0|        31|              1|\n",
            "|2021-01-05|    Maryland| Baltimore|              38.0|        41|              3|\n",
            "|2021-01-05|     Wyoming|     Teton|              22.0|        31|              3|\n",
            "|2021-01-06|  California|    Fresno|              46.0|        59|              8|\n",
            "|2021-01-06|    Michigan|     Mason|              32.0|        36|              1|\n",
            "|2021-01-06|       Texas|     Bexar|              62.0|        73|              6|\n",
            "|2021-01-08|       Idaho| Nez Perce|              38.0|        45|              2|\n",
            "|2021-01-09|       Texas|   Kleberg|              54.0|        61|              1|\n",
            "|2021-01-10|       Texas|  Harrison|              33.0|        37|              2|\n",
            "|2021-01-11|       Idaho|     Latah|              33.0|        36|              1|\n",
            "|2021-01-11|    Maryland|Washington|              30.0|        39|              1|\n",
            "|2021-01-11|    Missouri|  Franklin|              29.0|        35|              2|\n",
            "|2021-01-11|  Washington|   Clallam|              43.0|        45|              1|\n",
            "|2021-01-12|     Georgia|  Richmond|              46.0|        51|              1|\n",
            "+----------+------------+----------+------------------+----------+---------------+\n",
            "only showing top 20 rows\n",
            "\n"
          ]
        }
      ]
    },
    {
      "cell_type": "code",
      "execution_count": null,
      "metadata": {
        "id": "prkZa3rNJ8cH",
        "colab": {
          "base_uri": "https://localhost:8080/"
        },
        "outputId": "9c423974-e23c-4389-e5e2-563591c77afb"
      },
      "outputs": [
        {
          "output_type": "stream",
          "name": "stdout",
          "text": [
            "Rows in temperature_county: 138555\n",
            "+----------+--------+--------------------+------------------+----------+---------------+\n",
            "|      date|   state|              county|mean_temperature_f|max_temp_f|sites_reporting|\n",
            "+----------+--------+--------------------+------------------+----------+---------------+\n",
            "|2021-01-01| Alabama|            Escambia|              63.0|        68|              1|\n",
            "|2021-01-01| Alabama|           Jefferson|              65.0|        73|              2|\n",
            "|2021-01-01|  Alaska|              Denali|               0.0|         6|              1|\n",
            "|2021-01-01|  Alaska|Fairbanks North Star|              -9.0|        -1|              7|\n",
            "|2021-01-01| Arizona|             Cochise|              39.0|        49|              1|\n",
            "|2021-01-01| Arizona|            Coconino|              29.0|        35|              1|\n",
            "|2021-01-01| Arizona|            Maricopa|              49.0|        65|              1|\n",
            "|2021-01-01| Arizona|              Navajo|              29.0|        42|              1|\n",
            "|2021-01-01| Arizona|                Pima|              47.0|        63|             10|\n",
            "|2021-01-01|Arkansas|             Pulaski|              41.0|        45|              1|\n",
            "+----------+--------+--------------------+------------------+----------+---------------+\n",
            "only showing top 10 rows\n",
            "\n"
          ]
        }
      ],
      "source": [
        "print('Rows in temperature_county:', temperature_county.count())\n",
        "temperature_county.orderBy('date', 'state', 'county').show(10)\n",
        "\n"
      ]
    },
    {
      "cell_type": "markdown",
      "metadata": {
        "id": "lLsQFW_yRh8I"
      },
      "source": [
        "\n",
        "\n",
        "Creating a new data frame called `county_max_temp_hour` that reports the `max_temp_hour` at the same level of aggregation as `temperature_county` in the previous step."
      ]
    },
    {
      "cell_type": "code",
      "execution_count": null,
      "metadata": {
        "id": "FOO26LZBWNnk",
        "colab": {
          "base_uri": "https://localhost:8080/"
        },
        "outputId": "d6d576f3-ecec-4409-cdfe-cae5054c43a1"
      },
      "outputs": [
        {
          "output_type": "stream",
          "name": "stdout",
          "text": [
            "+----------+----------+--------------------+-------------+\n",
            "|      date|     state|              county|max_temp_hour|\n",
            "+----------+----------+--------------------+-------------+\n",
            "|2021-01-01|   Alabama|            Escambia|            0|\n",
            "|2021-01-01|    Alaska|              Denali|            4|\n",
            "|2021-01-01|    Alaska|Fairbanks North Star|           12|\n",
            "|2021-01-01|   Arizona|            Coconino|           12|\n",
            "|2021-01-01|   Arizona|            Maricopa|           13|\n",
            "|2021-01-01|   Arizona|              Navajo|           14|\n",
            "|2021-01-01|   Arizona|                Pima|           15|\n",
            "|2021-01-01|California|               Butte|           15|\n",
            "|2021-01-01|California|               Glenn|           14|\n",
            "|2021-01-01|California|            Imperial|           14|\n",
            "|2021-01-01|California|            Mariposa|           12|\n",
            "|2021-01-01|California|          Sacramento|           13|\n",
            "|2021-01-01|California|          San Benito|           13|\n",
            "|2021-01-01|California|      San Bernardino|           13|\n",
            "|2021-01-01|California|         San Joaquin|           14|\n",
            "|2021-01-01|California|         Santa Clara|           14|\n",
            "|2021-01-01|California|          Santa Cruz|           13|\n",
            "|2021-01-01|California|              Shasta|           11|\n",
            "|2021-01-01|California|              Sutter|           13|\n",
            "|2021-01-01|California|              Tulare|           14|\n",
            "+----------+----------+--------------------+-------------+\n",
            "only showing top 20 rows\n",
            "\n",
            "+----------+------------+----------+------------------+----------+---------------+-------------+\n",
            "|      date|       state|    county|mean_temperature_f|max_temp_f|sites_reporting|max_temp_hour|\n",
            "+----------+------------+----------+------------------+----------+---------------+-------------+\n",
            "|2021-01-01|       Idaho|  Shoshone|              33.0|        37|              1|           23|\n",
            "|2021-01-01|       Texas|  Brazoria|              44.0|        53|              2|           14|\n",
            "|2021-01-02|North Dakota|     Burke|              32.0|        38|              1|           15|\n",
            "|2021-01-03|  California| Riverside|              52.0|        72|             14|           14|\n",
            "|2021-01-03|South Dakota|    Custer|              37.0|        43|              1|           17|\n",
            "|2021-01-04|       Idaho|Twin Falls|              36.0|        44|              1|           19|\n",
            "|2021-01-05|    Illinois| Champaign|              29.0|        31|              1|            3|\n",
            "|2021-01-05|    Maryland| Baltimore|              38.0|        41|              3|           13|\n",
            "|2021-01-05|     Wyoming|     Teton|              22.0|        31|              3|            1|\n",
            "|2021-01-06|  California|    Fresno|              46.0|        59|              8|           15|\n",
            "|2021-01-06|    Michigan|     Mason|              32.0|        36|              1|           13|\n",
            "|2021-01-06|       Texas|     Bexar|              62.0|        73|              6|           14|\n",
            "|2021-01-08|       Idaho| Nez Perce|              38.0|        45|              2|           14|\n",
            "|2021-01-09|       Texas|   Kleberg|              54.0|        61|              1|           22|\n",
            "|2021-01-10|       Texas|  Harrison|              33.0|        37|              2|           13|\n",
            "|2021-01-11|       Idaho|     Latah|              33.0|        36|              1|           11|\n",
            "|2021-01-11|    Maryland|Washington|              30.0|        39|              1|           16|\n",
            "|2021-01-11|    Missouri|  Franklin|              29.0|        35|              2|           14|\n",
            "|2021-01-11|  Washington|   Clallam|              43.0|        45|              1|           10|\n",
            "|2021-01-12|     Georgia|  Richmond|              46.0|        51|              1|           14|\n",
            "+----------+------------+----------+------------------+----------+---------------+-------------+\n",
            "only showing top 20 rows\n",
            "\n"
          ]
        }
      ],
      "source": [
        "\n",
        "from pyspark.sql.window import Window\n",
        "from pyspark.sql.functions import row_number, desc\n",
        "\n",
        "window_spec = Window.partitionBy(\"date\", \"state\", 'county') \\\n",
        " .orderBy(desc('max_temp_f'))\n",
        "\n",
        "df = temperature\\\n",
        "  .withColumn('row_num', row_number()\\\n",
        "              .over(window_spec))\n",
        "df.count()\n",
        "\n",
        "\n",
        "df2 = df.filter(df.row_num == 1)\n",
        "\n",
        "\n",
        "county_max_temp_hour = df2.select(\"date\", \"state\", \"county\",\"max_temp_hour\")\n",
        "county_max_temp_hour.show()\n",
        "\n",
        "temperature_county_final = temperature_county.join(\n",
        "    county_max_temp_hour,\n",
        "    on=[\"date\", \"state\", \"county\"],\n",
        "    how=\"left\"\n",
        ")\n",
        "\n",
        "temperature_county_final.count()\n",
        "\n"
      ]
    },
    {
      "cell_type": "code",
      "execution_count": null,
      "metadata": {
        "id": "9ngrLyD3WRQv",
        "colab": {
          "base_uri": "https://localhost:8080/"
        },
        "outputId": "d51e0205-d30d-4413-d0a3-bf721b23c8e3"
      },
      "outputs": [
        {
          "output_type": "stream",
          "name": "stdout",
          "text": [
            "Rows in county_max_temp_hour: 138555\n",
            "+----------+--------+--------------------+-------------+\n",
            "|      date|   state|              county|max_temp_hour|\n",
            "+----------+--------+--------------------+-------------+\n",
            "|2021-01-01| Alabama|            Escambia|            0|\n",
            "|2021-01-01| Alabama|           Jefferson|           13|\n",
            "|2021-01-01|  Alaska|              Denali|            4|\n",
            "|2021-01-01|  Alaska|Fairbanks North Star|           12|\n",
            "|2021-01-01| Arizona|             Cochise|           12|\n",
            "|2021-01-01| Arizona|            Coconino|           12|\n",
            "|2021-01-01| Arizona|            Maricopa|           13|\n",
            "|2021-01-01| Arizona|              Navajo|           14|\n",
            "|2021-01-01| Arizona|                Pima|           15|\n",
            "|2021-01-01|Arkansas|             Pulaski|           10|\n",
            "+----------+--------+--------------------+-------------+\n",
            "only showing top 10 rows\n",
            "\n"
          ]
        }
      ],
      "source": [
        "print('Rows in county_max_temp_hour:', county_max_temp_hour.count())\n",
        "county_max_temp_hour.orderBy('date', 'state', 'county').show(10)"
      ]
    },
    {
      "cell_type": "code",
      "execution_count": null,
      "metadata": {
        "id": "kFdZN_4IeutU",
        "colab": {
          "base_uri": "https://localhost:8080/"
        },
        "outputId": "e1d7d7e2-f4d3-400c-eed9-e841fc2a058c"
      },
      "outputs": [
        {
          "output_type": "stream",
          "name": "stdout",
          "text": [
            "Rows in temperature_county_final: 138555\n",
            "+----------+--------+--------------------+------------------+----------+---------------+-------------+\n",
            "|      date|   state|              county|mean_temperature_f|max_temp_f|sites_reporting|max_temp_hour|\n",
            "+----------+--------+--------------------+------------------+----------+---------------+-------------+\n",
            "|2021-01-01| Alabama|            Escambia|              63.0|        68|              1|            0|\n",
            "|2021-01-01| Alabama|           Jefferson|              65.0|        73|              2|           13|\n",
            "|2021-01-01|  Alaska|              Denali|               0.0|         6|              1|            4|\n",
            "|2021-01-01|  Alaska|Fairbanks North Star|              -9.0|        -1|              7|           12|\n",
            "|2021-01-01| Arizona|             Cochise|              39.0|        49|              1|           12|\n",
            "|2021-01-01| Arizona|            Coconino|              29.0|        35|              1|           12|\n",
            "|2021-01-01| Arizona|            Maricopa|              49.0|        65|              1|           13|\n",
            "|2021-01-01| Arizona|              Navajo|              29.0|        42|              1|           14|\n",
            "|2021-01-01| Arizona|                Pima|              47.0|        63|             10|           15|\n",
            "|2021-01-01|Arkansas|             Pulaski|              41.0|        45|              1|           10|\n",
            "+----------+--------+--------------------+------------------+----------+---------------+-------------+\n",
            "only showing top 10 rows\n",
            "\n",
            "+----------+-------+-------+---+--------+\n",
            "|      date|  state| county|aqi|category|\n",
            "+----------+-------+-------+---+--------+\n",
            "|2021-01-01|Alabama|Baldwin| 27|    Good|\n",
            "|2021-01-07|Alabama|Baldwin| 24|    Good|\n",
            "|2021-01-13|Alabama|Baldwin| 46|    Good|\n",
            "|2021-01-16|Alabama|Baldwin| 21|    Good|\n",
            "|2021-01-19|Alabama|Baldwin| 52|Moderate|\n",
            "|2021-01-22|Alabama|Baldwin| 11|    Good|\n",
            "|2021-01-25|Alabama|Baldwin| 39|    Good|\n",
            "|2021-01-28|Alabama|Baldwin| 22|    Good|\n",
            "|2021-01-31|Alabama|Baldwin| 34|    Good|\n",
            "|2021-02-03|Alabama|Baldwin| 35|    Good|\n",
            "|2021-02-06|Alabama|Baldwin| 10|    Good|\n",
            "|2021-02-09|Alabama|Baldwin| 32|    Good|\n",
            "|2021-02-12|Alabama|Baldwin| 10|    Good|\n",
            "|2021-02-15|Alabama|Baldwin| 44|    Good|\n",
            "|2021-02-18|Alabama|Baldwin| 22|    Good|\n",
            "|2021-02-21|Alabama|Baldwin| 55|Moderate|\n",
            "|2021-02-24|Alabama|Baldwin| 35|    Good|\n",
            "|2021-02-27|Alabama|Baldwin| 24|    Good|\n",
            "|2021-03-05|Alabama|Baldwin| 54|Moderate|\n",
            "|2021-03-08|Alabama|Baldwin| 56|Moderate|\n",
            "+----------+-------+-------+---+--------+\n",
            "only showing top 20 rows\n",
            "\n"
          ]
        }
      ],
      "source": [
        "print('Rows in temperature_county_final:', temperature_county_final.count())\n",
        "temperature_county_final.orderBy('date', 'state', 'county').show(10)\n",
        "\n",
        "aqi.show()"
      ]
    },
    {
      "cell_type": "markdown",
      "metadata": {
        "id": "7t7rZEs2fDvh"
      },
      "source": [
        "\n",
        "\n",
        "Joining `aqi` to `temperature_county_final` and call the resulting data frame `daily_county_measurements`.Then finding out the value where the **highest recorded `aqi`** occurred in 2021. In the event of a tie, we will include the first instance."
      ]
    },
    {
      "cell_type": "code",
      "execution_count": null,
      "metadata": {
        "id": "xqw9vnw4mWnD",
        "colab": {
          "base_uri": "https://localhost:8080/"
        },
        "outputId": "84e23da5-344f-4481-93bd-290a2319d337"
      },
      "outputs": [
        {
          "output_type": "stream",
          "name": "stdout",
          "text": [
            "The highest recorded AQI value in 2021 occurred on 2021-01-11, in Kern County, California, and had a value of 99.\n"
          ]
        }
      ],
      "source": [
        "# join aqi to temperature_county_final\n",
        "daily_county_measurements = temperature_county_final.join(aqi,\n",
        "                                                          on=['date', 'state', 'county'], how= 'inner')\n",
        "highest_aqi = daily_county_measurements.select('date','county','state','aqi').filter(year(\"date\")==2021).orderBy(col(\"aqi\"), ascending=False)\n",
        "\n",
        "\n",
        "highest_aqi_values = highest_aqi.first()\n",
        "date = highest_aqi_values['date']\n",
        "county = highest_aqi_values['county']\n",
        "state = highest_aqi_values['state']\n",
        "aqi_value = highest_aqi_values['aqi']\n",
        "print(f\"The highest recorded AQI value in 2021 occurred on {date}, in {county} County, {state}, and had a value of {aqi_value}.\")\n"
      ]
    },
    {
      "cell_type": "markdown",
      "metadata": {
        "id": "WoQjhhS3LpbR"
      },
      "source": [
        " Creating a new data frame called `highest_temperates_by_state_2021` that contains one row per state, and shows the `date`, `state`, and `max_temp_f` for the **highest recorded temperature** in that state in 2021."
      ]
    },
    {
      "cell_type": "code",
      "execution_count": null,
      "metadata": {
        "id": "g_i-bD5PzMV8",
        "colab": {
          "base_uri": "https://localhost:8080/"
        },
        "outputId": "92a85789-3a7c-462e-c019-3f8f45405713"
      },
      "outputs": [
        {
          "output_type": "stream",
          "name": "stdout",
          "text": [
            "+--------------------+---------------+\n",
            "|               state|max(max_temp_f)|\n",
            "+--------------------+---------------+\n",
            "|                Utah|            115|\n",
            "|              Hawaii|             89|\n",
            "|   Country Of Mexico|            123|\n",
            "|           Minnesota|             98|\n",
            "|                Ohio|             99|\n",
            "|              Oregon|            116|\n",
            "|            Arkansas|            101|\n",
            "|District Of Columbia|             97|\n",
            "|               Texas|            107|\n",
            "|        North Dakota|            103|\n",
            "|        Pennsylvania|             97|\n",
            "|         Connecticut|            100|\n",
            "|             Vermont|             92|\n",
            "|            Nebraska|            102|\n",
            "|              Nevada|            118|\n",
            "|          Washington|            116|\n",
            "|            Illinois|             99|\n",
            "|            Oklahoma|            103|\n",
            "|            Delaware|             97|\n",
            "|              Alaska|             87|\n",
            "+--------------------+---------------+\n",
            "only showing top 20 rows\n",
            "\n"
          ]
        }
      ],
      "source": [
        "\n",
        "highest_temperates_by_state_2021 = temperature_county_final.filter(year('date')==2021).groupBy('state').agg(max('max_temp_f'))\n",
        "\n",
        "highest_temperatures_by_state_2021 = temperature_county_final \\\n",
        "    .filter(year(\"date\") == 2021) \\\n",
        "    .groupBy(\"state\",\"county\") \\\n",
        "    .agg(max(col(\"max_temp_f\")))\n",
        "highest_temperates_by_state_2021.show()"
      ]
    },
    {
      "cell_type": "code",
      "execution_count": 5,
      "metadata": {
        "id": "EY9gDNeb2LfJ"
      },
      "outputs": [],
      "source": []
    }
  ],
  "metadata": {
    "colab": {
      "provenance": []
    },
    "kernelspec": {
      "display_name": "Python 3",
      "name": "python3"
    },
    "language_info": {
      "name": "python"
    }
  },
  "nbformat": 4,
  "nbformat_minor": 0
}